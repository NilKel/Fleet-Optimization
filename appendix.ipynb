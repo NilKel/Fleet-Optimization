{
 "cells": [
  {
   "cell_type": "markdown",
   "metadata": {},
   "source": [
    "# Appendix "
   ]
  },
  {
   "cell_type": "markdown",
   "metadata": {},
   "source": [
    "Here we document how we generated the data for the fleet assignment problem"
   ]
  },
  {
   "cell_type": "code",
   "execution_count": 19,
   "metadata": {},
   "outputs": [],
   "source": [
    "from matplotlib import collections  as mc\n",
    "import pylab as pl\n",
    "import matplotlib.pyplot as plt\n",
    "import numpy as np\n",
    "import random\n",
    "import itertools\n",
    "import pandas as pd\n",
    "\n",
    "airps=5 #arbitrary number of airports\n",
    "fltypes=5 #five types of fleet\n",
    "fleet=[random.randint(1,5),random.randint(1,5),random.randint(1,5),random.randint(1,5),random.randint(1,5)] #random number of each type"
   ]
  },
  {
   "cell_type": "markdown",
   "metadata": {},
   "source": [
    "ct is our randomly generated operation cost for every (fleet,airport,airport) set. opcost is 0 if the airports are the same."
   ]
  },
  {
   "cell_type": "code",
   "execution_count": 20,
   "metadata": {},
   "outputs": [],
   "source": [
    "ct=[]\n",
    "for i in range(5):\n",
    "    for j in range(5):\n",
    "        for k in range(5):\n",
    "            if j!=k:\n",
    "                ct.append([i+1,j+1,k+1,random.randint(5,20)])\n",
    "            else:\n",
    "                ct.append([i+1,j+1,k+1,0])"
   ]
  },
  {
   "cell_type": "code",
   "execution_count": 21,
   "metadata": {},
   "outputs": [
    {
     "data": {
      "text/plain": [
       "[2, 4, 1, 4]"
      ]
     },
     "execution_count": 21,
     "metadata": {},
     "output_type": "execute_result"
    }
   ],
   "source": [
    "[random.randint(1,5),random.randint(1,5),random.randint(1,5),random.randint(1,5)] #random number of flights for n-1 airports"
   ]
  },
  {
   "cell_type": "markdown",
   "metadata": {},
   "source": [
    "We use the following code to generate number of flights from the final airport and balance our data. \n",
    "Number of incoming and outgoing flights at every airport is balanced through these constraints to generate flights between the airports."
   ]
  },
  {
   "cell_type": "code",
   "execution_count": 22,
   "metadata": {},
   "outputs": [
    {
     "name": "stdout",
     "output_type": "stream",
     "text": [
      "The gams_magic extension is already loaded. To reload it, use:\n",
      "  %reload_ext gams_magic\n"
     ]
    }
   ],
   "source": [
    "%load_ext gams_magic\n",
    "import pandas as pd\n",
    "%gams_cleanup -k\n",
    "%gams_reset"
   ]
  },
  {
   "cell_type": "code",
   "execution_count": 23,
   "metadata": {},
   "outputs": [
    {
     "data": {
      "text/html": [
       "<div>\n",
       "<style scoped>\n",
       "    .dataframe tbody tr th:only-of-type {\n",
       "        vertical-align: middle;\n",
       "    }\n",
       "\n",
       "    .dataframe tbody tr th {\n",
       "        vertical-align: top;\n",
       "    }\n",
       "\n",
       "    .dataframe thead th {\n",
       "        text-align: right;\n",
       "    }\n",
       "</style>\n",
       "<table border=\"1\" class=\"dataframe\">\n",
       "  <thead>\n",
       "    <tr style=\"text-align: right;\">\n",
       "      <th></th>\n",
       "      <th>Solver Status</th>\n",
       "      <th>Model Status</th>\n",
       "      <th>Objective</th>\n",
       "      <th>#equ</th>\n",
       "      <th>#var</th>\n",
       "      <th>Model Type</th>\n",
       "      <th>Solver</th>\n",
       "      <th>Solver Time</th>\n",
       "    </tr>\n",
       "  </thead>\n",
       "  <tbody>\n",
       "    <tr>\n",
       "      <td>0</td>\n",
       "      <td>Normal (1)</td>\n",
       "      <td>Optimal Global (1)</td>\n",
       "      <td>1.0</td>\n",
       "      <td>61</td>\n",
       "      <td>30</td>\n",
       "      <td>MIP</td>\n",
       "      <td>CPLEX</td>\n",
       "      <td>0.026</td>\n",
       "    </tr>\n",
       "  </tbody>\n",
       "</table>\n",
       "</div>"
      ],
      "text/plain": [
       "  Solver Status        Model Status  Objective #equ #var Model Type Solver  \\\n",
       "0    Normal (1)  Optimal Global (1)        1.0   61   30        MIP  CPLEX   \n",
       "\n",
       "  Solver Time  \n",
       "0       0.026  "
      ]
     },
     "execution_count": 23,
     "metadata": {},
     "output_type": "execute_result"
    }
   ],
   "source": [
    "%%gams\n",
    "set s/1*5/;\n",
    "parameter sums(s)/1 5,2 3,3 5,4 2/;\n",
    "alias(t,s);\n",
    "integer variable x(s,t),summ(s);\n",
    "free variable fv;\n",
    "equations e1,e2,e3,e4,e5,e6;\n",
    "summ.fx(s)=sums(s)$(ord(s)<>5);\n",
    "x.fx(s,s)=0;\n",
    "\n",
    "e1..\n",
    "fv=g=0;\n",
    "\n",
    "e2(s)..\n",
    "sum(t,x(s,t))=e=sum(t,x(t,s));\n",
    "\n",
    "e3(s,t)..\n",
    "x(s,t)=g=0;\n",
    "\n",
    "e4(s)$(ord(s)<>5)..\n",
    "sum(t,x(s,t))=e=summ(s);\n",
    "\n",
    "e5..\n",
    "sum(t,x('5',t))=e=fv;\n",
    "\n",
    "e6(t,s)..\n",
    "x(t,s)=l=2;\n",
    "\n",
    "model net /all/;\n",
    "solve net using mip minimizing fv;"
   ]
  },
  {
   "cell_type": "code",
   "execution_count": 24,
   "metadata": {},
   "outputs": [],
   "source": [
    "%gams_pull -d x\n",
    "xx=x.loc[x['level']>0]\n",
    "xx=xx.drop(columns=['marginal','lower','upper','scale']).reset_index().drop(['index'],axis=1)\n",
    "xx.columns=['air1','air2','flights']"
   ]
  },
  {
   "cell_type": "code",
   "execution_count": 25,
   "metadata": {},
   "outputs": [],
   "source": [
    "times2=[[]]*len(times)\n",
    "for i in range(len(times)):\n",
    "    dummy=[]\n",
    "    for j in range(len(times[i])//2):\n",
    "        dummy.append([times[i][2*j],times[i][2*j+1]])\n",
    "        times2[i]=dummy"
   ]
  },
  {
   "cell_type": "code",
   "execution_count": 26,
   "metadata": {},
   "outputs": [],
   "source": [
    "flightsch=[]\n",
    "for i in range(len(xx)):\n",
    "    for j in range(int(xx.loc[i].flights)):\n",
    "        flightsch.append([xx.loc[i].air1,xx.loc[i].air2,times2[i][j],[50*random.randint(2,8),50*random.randint(2,6)]])\n",
    "for i in range(len(flightsch)):\n",
    "    flightsch[i]=list(itertools.chain(*flightsch[i]))"
   ]
  },
  {
   "cell_type": "markdown",
   "metadata": {},
   "source": [
    "A flight schedule of the format [Airport1, Airport2, time slot 1, time slot 2, fare, demand] is generated"
   ]
  },
  {
   "cell_type": "code",
   "execution_count": 27,
   "metadata": {},
   "outputs": [
    {
     "data": {
      "text/plain": [
       "[['1', '2', 6, 10, 250, 200],\n",
       " ['1', '3', 2, 6, 150, 200],\n",
       " ['1', '3', 9, 15, 100, 100],\n",
       " ['1', '4', 7, 11, 100, 250],\n",
       " ['1', '5', 1, 6, 300, 200],\n",
       " ['2', '1', 7, 11, 200, 150],\n",
       " ['2', '1', 13, 15, 300, 200],\n",
       " ['2', '3', 2, 3, 250, 300],\n",
       " ['3', '1', 1, 4, 150, 250],\n",
       " ['3', '1', 9, 12, 350, 300],\n",
       " ['3', '2', 7, 8, 150, 100],\n",
       " ['3', '2', 9, 14, 300, 300],\n",
       " ['3', '4', 12, 13, 100, 150],\n",
       " ['4', '3', 10, 13, 400, 200],\n",
       " ['4', '3', 14, 16, 300, 250],\n",
       " ['5', '1', 3, 15, 300, 200]]"
      ]
     },
     "metadata": {},
     "output_type": "display_data"
    }
   ],
   "source": [
    "display(flightsch)"
   ]
  },
  {
   "cell_type": "code",
   "execution_count": 28,
   "metadata": {},
   "outputs": [],
   "source": [
    "schedule=pd.DataFrame(flightsch,columns=['air','air','ts','ts','fare','demand'])\n",
    "farev=schedule.drop(columns=['demand'])\n",
    "demv=schedule.drop(columns=['fare'])\n",
    "#generating dataframes for demand and fare"
   ]
  },
  {
   "cell_type": "code",
   "execution_count": 29,
   "metadata": {},
   "outputs": [],
   "source": [
    "skyr=demv\n",
    "for i in range(len(skyr)):\n",
    "    skyr.loc[i,'demand']=1\n",
    "skyr.columns=['air','air','ts','ts','arcs']\n",
    "#generating \"arc\" variable values for valid flights"
   ]
  },
  {
   "cell_type": "code",
   "execution_count": 30,
   "metadata": {},
   "outputs": [],
   "source": [
    "opcosts=pd.DataFrame(ct)"
   ]
  },
  {
   "cell_type": "code",
   "execution_count": 31,
   "metadata": {},
   "outputs": [],
   "source": [
    "demv.to_excel(\"demand.xlsx\")\n",
    "farev.to_excel(\"fares.xlsx\")\n",
    "skyr.to_excel(\"skarc.xlsx\")\n",
    "opcosts.to_excel(\"opcos.xlsx\")"
   ]
  },
  {
   "cell_type": "markdown",
   "metadata": {},
   "source": [
    "Since GDXXRW doesn't work with GAMS Magic, we have to generate the gdx files externally on GAMS studio.\n",
    "<br>This requires the following code:\n",
    "```\n",
    "    $call gdxxrw demand.xlsx maxDupeErrors=20 par=dem rng=Sheet1!B2:F19 rDim=4\n",
    "    $call gdxxrw fares.xlsx maxDupeErrors=20 par=fare rng=Sheet1!B2:F19 rDim=4\n",
    "    $call gdxxrw skarc.xlsx maxDupeErrors=20 par=skyarcs rng=Sheet1!B2:F19 rDim=4\n",
    "    $call gdxxrw opcos.xlsx maxDupeErrors=20000 par=opcos rng=Sheet1!B2:E126 rDim=3\n",
    "```"
   ]
  },
  {
   "cell_type": "code",
   "execution_count": null,
   "metadata": {},
   "outputs": [],
   "source": []
  }
 ],
 "metadata": {
  "kernelspec": {
   "display_name": "Python 3",
   "language": "python",
   "name": "python3"
  },
  "language_info": {
   "codemirror_mode": {
    "name": "ipython",
    "version": 3
   },
   "file_extension": ".py",
   "mimetype": "text/x-python",
   "name": "python",
   "nbconvert_exporter": "python",
   "pygments_lexer": "ipython3",
   "version": "3.6.9"
  }
 },
 "nbformat": 4,
 "nbformat_minor": 2
}
